{
 "cells": [
  {
   "cell_type": "code",
   "execution_count": 1,
   "id": "2d8b83ac",
   "metadata": {},
   "outputs": [],
   "source": [
    "from collections import namedtuple\n",
    "\n",
    "# create a namedtuple called country to represent a country\n",
    "\n",
    "country = namedtuple(\"country\", [\"name\", \"capital\", \"continent\"])\n",
    "\n"
   ]
  },
  {
   "cell_type": "code",
   "execution_count": 3,
   "id": "9eb477c7",
   "metadata": {},
   "outputs": [],
   "source": [
    "france = country(\"France\", \"Paris\", \"Europe\")\n",
    "japan = country(\"Japan\", \"Tokyo\", \"Europe\")\n",
    "senegal = country(\"Senegal\", \"Dakar\", \"Africa\")\n",
    "\n"
   ]
  },
  {
   "cell_type": "code",
   "execution_count": 5,
   "id": "1c70a675",
   "metadata": {},
   "outputs": [
    {
     "name": "stdout",
     "output_type": "stream",
     "text": [
      "(country(name='France', capital='Paris', continent='Europe'), country(name='Japan', capital='Tokyo', continent='Europe'), country(name='Senegal', capital='Dakar', continent='Africa'))\n"
     ]
    }
   ],
   "source": [
    "countries = (france, japan, senegal)\n",
    "print(countries)\n"
   ]
  },
  {
   "cell_type": "code",
   "execution_count": 7,
   "id": "c41b0f24",
   "metadata": {},
   "outputs": [
    {
     "name": "stdout",
     "output_type": "stream",
     "text": [
      "25\n"
     ]
    }
   ],
   "source": [
    "def odd_or_even(n, even_function, odd_function):\n",
    "    if n % 2 == 0:\n",
    "        return even_function(n)\n",
    "    else:\n",
    "        return odd_function(n)\n",
    "\n",
    "square = lambda x: x * x\n",
    "cube = lambda x: x * x * x\n",
    "\n",
    "test = odd_or_even(5, cube, square)\n",
    "\n",
    "print(test)\n"
   ]
  },
  {
   "cell_type": "code",
   "execution_count": 9,
   "id": "75cc8e50",
   "metadata": {},
   "outputs": [
    {
     "name": "stdout",
     "output_type": "stream",
     "text": [
      "(16, 2, 22, 10, 16, 2, 26, 12, 20, 16, 6, 2, 12, 20)\n",
      "(48, 6, 57, 66, 30, 69, 48, 6, 81, 87, 57, 78, 36, 60, 48, 87, 18, 6, 36, 60)\n",
      "328\n"
     ]
    }
   ],
   "source": [
    "#filter(), map(), reduce()\n",
    "\n",
    "nums = (16, 2, 19, 22, 10, 23, 16, 2, 27, 29, 19, 26, 12, 20, 16, 29, 6, 2, 12, 20)\n",
    "\n",
    "filtered_numbers = filter(lambda x: x % 2 == 0, nums)\n",
    "print(tuple(filtered_numbers))\n",
    "\n",
    "mapped_numbers = map(lambda x: x * 3, nums)\n",
    "print(tuple(mapped_numbers))\n",
    "\n",
    "from functools import reduce\n",
    "\n",
    "sum = reduce(lambda x, y: x + y, nums)\n",
    "print(sum)\n",
    "\n"
   ]
  },
  {
   "cell_type": "code",
   "execution_count": 10,
   "id": "34f06055",
   "metadata": {},
   "outputs": [
    {
     "name": "stdout",
     "output_type": "stream",
     "text": [
      "(32, 38, 44, 46, 32, 54, 58, 38, 52, 24, 40, 32, 58, 24, 40)\n",
      "(81, 36, 18, 36)\n"
     ]
    }
   ],
   "source": [
    "#map() and filter() together\n",
    "\n",
    "greater_than_10_doubled = map(lambda x: x * 2, filter(lambda a: a > 10, nums))\n",
    "print(tuple(greater_than_10_doubled))\n",
    "\n",
    "functional_way = map(lambda x: x * 3, filter(lambda a: a % 3 == 0, nums))\n",
    "print(tuple(functional_way))\n"
   ]
  },
  {
   "cell_type": "code",
   "execution_count": 11,
   "id": "b90dc470",
   "metadata": {},
   "outputs": [],
   "source": [
    "# reduce() and filter() together\n",
    "\n",
    "from collections import namedtuple\n",
    "from functools import reduce\n",
    "\n",
    "menu_item = namedtuple(\"menu_item\", [\"name\", \"dish_type\", \"price\"])\n",
    "\n",
    "jsp = menu_item(\"Jumbo Shrimp Platter\", \"Appetizer\", 29.95)\n",
    "lc = menu_item(\"Lobster Cake\", \"Appetizer\", 30.95)\n",
    "scb = menu_item(\"Sizzling Canadian Bacon\", \"Appetizer\", 9.95)\n",
    "ccc = menu_item(\"Codecademy Crab Cake\", \"Appetizer\", 32.95)\n",
    "cs = menu_item(\"Caeser Salad\", \"Salad\", 14.95)\n",
    "mgs = menu_item(\"Mixed Green Salad\", \"Salad\", 10.95)\n",
    "cp = menu_item(\"Codecademy Potatoes\", \"Side\", 34.95)\n",
    "mp = menu_item(\"Mashed Potatoes\", \"Side\", 14.95)\n",
    "a = menu_item(\"Asparagus\", \"Side\", 15.95)\n",
    "rs = menu_item(\"Ribeye Steak\", \"Entree\", 75.95)\n",
    "phs = menu_item(\"Porter House Steak\", \"Entree\", 131.95)\n",
    "grs = menu_item(\"Grilled Salmon\", \"Entree\", 36.95)\n",
    "\n",
    "menu = (jsp, lc, scb, ccc, cs, mgs, cp, mp, a, rs, phs, grs)\n"
   ]
  },
  {
   "cell_type": "code",
   "execution_count": 13,
   "id": "a97b3796",
   "metadata": {},
   "outputs": [
    {
     "name": "stdout",
     "output_type": "stream",
     "text": [
      "menu_item(name='Porter House Steak', dish_type='Entree', price=131.95)\n",
      "menu_item(name='Mixed Green Salad', dish_type='Salad', price=10.95)\n"
     ]
    }
   ],
   "source": [
    "entree = reduce(lambda x, y: x if x.price > y.price else y, filter(lambda x: x.dish_type == \"Entree\", menu))\n",
    "print(entree)\n",
    "\n",
    "least_expensive =  reduce(lambda x, y: x if x.price < y.price else y, filter(lambda x: x.dish_type == \"Side\" or x.dish_type == \"Salad\", menu))\n",
    "print(least_expensive)\n"
   ]
  },
  {
   "cell_type": "code",
   "execution_count": 14,
   "id": "9c1d8805",
   "metadata": {},
   "outputs": [
    {
     "name": "stdout",
     "output_type": "stream",
     "text": [
      "72\n"
     ]
    }
   ],
   "source": [
    "# find the totsl number of fruitd sold.\n",
    "# fruit_name: (amount sold on day 1, amount sold on day 2, amount sold on day 3)\n",
    "\n",
    "from functools import reduce\n",
    "\n",
    "fruits = {\"Grape\":(4, 6, 2), \"Lemon\":(7, 3, 1), \"Orange\":(5, 8, 1), \"Apple\":(2, 8, 10), \"Watermelon\":(0, 9, 6)}\n",
    "\n",
    "total_fruits = reduce(lambda x, y: x+y, map(lambda q: fruits[q][0] + fruits[q][1] + fruits[q][2], fruits))\n",
    "print(total_fruits)\n"
   ]
  },
  {
   "cell_type": "code",
   "execution_count": 15,
   "id": "9b30eb46",
   "metadata": {},
   "outputs": [
    {
     "name": "stdout",
     "output_type": "stream",
     "text": [
      "460.0\n",
      "72648576\n"
     ]
    }
   ],
   "source": [
    "costs = {\"shirt\": (4, 13.00), \"shoes\":(2, 80.00), \"pants\":(3, 100.00), \"socks\":(5, 5.00), \"ties\":(3, 14.00), \"watch\":(1, 145.00)}\n",
    "\n",
    "nums = (24, 6, 7, 16, 8, 2, 3, 11, 21, 20, 22, 23, 19, 12, 1, 4, 17, 9, 25, 15)\n",
    "\n",
    "total = reduce(lambda x, y: x+y, filter(lambda r: r > 150.00, map(lambda q: costs[q][0] * costs[q][1], costs)))\n",
    "\n",
    "print(total)\n",
    "\n",
    "product = -1\n",
    "\n",
    "product = reduce(lambda x, y: x * y, map(lambda z: z + 5, filter(lambda q: q < 10, nums)))\n",
    "\n",
    "print(product)\n"
   ]
  }
 ],
 "metadata": {
  "kernelspec": {
   "display_name": "Python 3 (ipykernel)",
   "language": "python",
   "name": "python3"
  },
  "language_info": {
   "codemirror_mode": {
    "name": "ipython",
    "version": 3
   },
   "file_extension": ".py",
   "mimetype": "text/x-python",
   "name": "python",
   "nbconvert_exporter": "python",
   "pygments_lexer": "ipython3",
   "version": "3.11.5"
  }
 },
 "nbformat": 4,
 "nbformat_minor": 5
}
