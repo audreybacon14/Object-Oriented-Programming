{
 "cells": [
  {
   "cell_type": "code",
   "execution_count": 38,
   "id": "8a26386f",
   "metadata": {},
   "outputs": [],
   "source": [
    "# Create a class that will represent an employee of a company\n",
    "class Employee():\n",
    "    new_id = 1\n",
    "    def __init__(self):\n",
    "        self.id = Employee.new_id\n",
    "        Employee.new_id += 1\n",
    "    \n",
    "    def say_id(self):\n",
    "        print(\"My id is {}.\".format(self.id))\n",
    "\n",
    "# Create a User class\n",
    "class User:\n",
    "    def __init__(self, username, role=\"Customer\"):\n",
    "        self.username = username\n",
    "        self.role = role\n",
    "\n",
    "    def say_user_info(self):\n",
    "        print(\"My username is {}\".format(self.username))\n",
    "        print(\"My role is {}\".format(self.role))\n",
    "# Create an Admin class that inherit from the Employee class\n",
    "class Admin(Employee, User):\n",
    "    def __init__(self):\n",
    "        super().__init__()\n",
    "        User.__init__(self, self.id, \"Admin\")\n",
    "    # Override the method\n",
    "    def say_id(self):\n",
    "        super().say_id()\n",
    "        print(\"I am an Admin\")\n",
    "        \n",
    "# Create a Manager class and have it inherit from the Admin class\n",
    "class Manager(Admin):\n",
    "    def say_id(self):\n",
    "        super().say_id()\n",
    "        print(\"I am in charge\")\n",
    "        \n",
    "#Create a Meeting class \n",
    "class Meeting:\n",
    "    def __init__(self):\n",
    "        self.attendees = []\n",
    "    def __add__(self, employee):\n",
    "        print(\"ID {} added.\".format(employee.id))\n",
    "        self.attendees.append(employee)\n",
    "    \n",
    "    def __len__(self):\n",
    "        return len(self.attendees)\n"
   ]
  },
  {
   "cell_type": "code",
   "execution_count": 39,
   "id": "95f7ab1a",
   "metadata": {},
   "outputs": [
    {
     "name": "stdout",
     "output_type": "stream",
     "text": [
      "My id is 1.\n",
      "My id is 2.\n"
     ]
    }
   ],
   "source": [
    "e1 = Employee()\n",
    "e2 = Employee()\n",
    "e1.say_id()\n",
    "e2.say_id()\n"
   ]
  },
  {
   "cell_type": "code",
   "execution_count": 40,
   "id": "106cbefc",
   "metadata": {
    "scrolled": true
   },
   "outputs": [
    {
     "name": "stdout",
     "output_type": "stream",
     "text": [
      "My id is 3.\n",
      "I am an Admin\n",
      "My username is 3\n",
      "My role is Admin\n"
     ]
    }
   ],
   "source": [
    "e3 = Admin()\n",
    "e3.say_id()\n",
    "e3.say_user_info()"
   ]
  },
  {
   "cell_type": "code",
   "execution_count": 41,
   "id": "f59040c0",
   "metadata": {},
   "outputs": [
    {
     "name": "stdout",
     "output_type": "stream",
     "text": [
      "My id is 4.\n",
      "I am an Admin\n",
      "I am in charge\n"
     ]
    }
   ],
   "source": [
    "e4 = Manager()\n",
    "e4.say_id()\n"
   ]
  },
  {
   "cell_type": "code",
   "execution_count": 42,
   "id": "0d646691",
   "metadata": {},
   "outputs": [
    {
     "name": "stdout",
     "output_type": "stream",
     "text": [
      "My id is 5.\n",
      "My id is 6.\n",
      "I am an Admin\n",
      "My id is 7.\n",
      "I am an Admin\n",
      "I am in charge\n"
     ]
    }
   ],
   "source": [
    "# Polymorphism. Define a variable meeting and set it equal to a list that contains an instance of each class, Employee(), Admin(), and Manager()\n",
    "meeting = [Employee(), Admin(), Manager()]\n",
    "for member in meeting:\n",
    "    member.say_id()\n",
    "    "
   ]
  },
  {
   "cell_type": "code",
   "execution_count": 43,
   "id": "63f051a1",
   "metadata": {},
   "outputs": [
    {
     "name": "stdout",
     "output_type": "stream",
     "text": [
      "ID 2 added.\n",
      "ID 2 added.\n",
      "ID 3 added.\n",
      "3\n"
     ]
    }
   ],
   "source": [
    "m1 = Meeting()\n",
    "m1 + e2 \n",
    "m1 + e2\n",
    "m1 + e3\n",
    "print(len(m1))\n"
   ]
  },
  {
   "cell_type": "code",
   "execution_count": 47,
   "id": "fe2f0ce6",
   "metadata": {},
   "outputs": [
    {
     "name": "stdout",
     "output_type": "stream",
     "text": [
      "My id is 1\n"
     ]
    }
   ],
   "source": [
    "# Abstraction\n",
    "from abc import ABC, abstractmethod\n",
    "\n",
    "class AbstractEmployee(ABC):\n",
    "    new_id = 1\n",
    "    def __init__(self):\n",
    "        self.id = AbstractEmployee.new_id\n",
    "        AbstractEmployee.new_id += 1\n",
    "    \n",
    "    @abstractmethod\n",
    "    def say_id(self):\n",
    "        pass\n",
    "    \n",
    "    \n",
    "class Employee(AbstractEmployee):\n",
    "    def say_id(self):\n",
    "        print(\"My id is {}\".format(self.id))\n",
    "\n",
    "e1 = Employee()\n",
    "e1.say_id()\n",
    "\n"
   ]
  },
  {
   "cell_type": "code",
   "execution_count": 48,
   "id": "500ea797",
   "metadata": {},
   "outputs": [
    {
     "name": "stdout",
     "output_type": "stream",
     "text": [
      "['_Employee__id', '__class__', '__delattr__', '__dict__', '__dir__', '__doc__', '__eq__', '__format__', '__ge__', '__getattribute__', '__getstate__', '__gt__', '__hash__', '__init__', '__init_subclass__', '__le__', '__lt__', '__module__', '__ne__', '__new__', '__reduce__', '__reduce_ex__', '__repr__', '__setattr__', '__sizeof__', '__str__', '__subclasshook__', '__weakref__', '_id', 'id']\n"
     ]
    }
   ],
   "source": [
    "# Encapsulation\n",
    "class Employee():\n",
    "    def __init__(self):\n",
    "        self.id = None\n",
    "        self._id = None\n",
    "        self.__id = None\n",
    "\n",
    "e = Employee()\n",
    "print(dir(e))\n"
   ]
  },
  {
   "cell_type": "code",
   "execution_count": 55,
   "id": "d2bd1aba",
   "metadata": {},
   "outputs": [],
   "source": [
    "class Employee():\n",
    "    new_id = 1\n",
    "    def __init__(self, name=None):\n",
    "        self.id = Employee.new_id\n",
    "        Employee.new_id += 1\n",
    "        self._name = name\n",
    "        \n",
    "        def get_name(self):\n",
    "            return self._name\n",
    "    \n",
    "        def set_name(self, new_name):\n",
    "            self._name = new_name\n",
    "        \n",
    "        def del_name(self):\n",
    "            del self._name\n",
    "\n",
    "            \n",
    "    "
   ]
  },
  {
   "cell_type": "code",
   "execution_count": 56,
   "id": "ea9ee093",
   "metadata": {},
   "outputs": [
    {
     "ename": "AttributeError",
     "evalue": "'Employee' object has no attribute 'get_name'",
     "output_type": "error",
     "traceback": [
      "\u001b[1;31m---------------------------------------------------------------------------\u001b[0m",
      "\u001b[1;31mAttributeError\u001b[0m                            Traceback (most recent call last)",
      "Cell \u001b[1;32mIn[56], line 3\u001b[0m\n\u001b[0;32m      1\u001b[0m e1 \u001b[38;5;241m=\u001b[39m Employee(\u001b[38;5;124m\"\u001b[39m\u001b[38;5;124mMaisy\u001b[39m\u001b[38;5;124m\"\u001b[39m)\n\u001b[0;32m      2\u001b[0m e2 \u001b[38;5;241m=\u001b[39m Employee()\n\u001b[1;32m----> 3\u001b[0m \u001b[38;5;28mprint\u001b[39m(e1\u001b[38;5;241m.\u001b[39mget_name())\n\u001b[0;32m      5\u001b[0m e2\u001b[38;5;241m.\u001b[39mset_name(\u001b[38;5;124m\"\u001b[39m\u001b[38;5;124mFluffy\u001b[39m\u001b[38;5;124m\"\u001b[39m)\n\u001b[0;32m      6\u001b[0m \u001b[38;5;28mprint\u001b[39m(e2\u001b[38;5;241m.\u001b[39mget_name())\n",
      "\u001b[1;31mAttributeError\u001b[0m: 'Employee' object has no attribute 'get_name'"
     ]
    }
   ],
   "source": [
    "e1 = Employee(\"Maisy\")\n",
    "e2 = Employee()\n",
    "print(e1.get_name())\n",
    "\n",
    "e2.set_name(\"Fluffy\")\n",
    "print(e2.get_name())\n",
    "\n",
    "e2.del_name()\n",
    "print(e2.get_name())\n"
   ]
  },
  {
   "cell_type": "code",
   "execution_count": null,
   "id": "85c37bfc",
   "metadata": {},
   "outputs": [],
   "source": []
  }
 ],
 "metadata": {
  "kernelspec": {
   "display_name": "Python 3 (ipykernel)",
   "language": "python",
   "name": "python3"
  },
  "language_info": {
   "codemirror_mode": {
    "name": "ipython",
    "version": 3
   },
   "file_extension": ".py",
   "mimetype": "text/x-python",
   "name": "python",
   "nbconvert_exporter": "python",
   "pygments_lexer": "ipython3",
   "version": "3.11.5"
  }
 },
 "nbformat": 4,
 "nbformat_minor": 5
}
